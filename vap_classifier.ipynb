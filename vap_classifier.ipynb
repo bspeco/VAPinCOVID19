{
 "cells": [
  {
   "cell_type": "code",
   "execution_count": 10,
   "id": "97650ccc",
   "metadata": {
    "tags": []
   },
   "outputs": [],
   "source": [
    "import scipy as sp\n",
    "import numpy as np\n",
    "import pandas as pd\n",
    "import anndata\n",
    "from scipy.stats import spearmanr\n",
    "from sklearn.preprocessing import StandardScaler\n",
    "import time as time\n",
    "import warnings\n",
    "from sklearn.metrics import roc_auc_score, roc_curve\n",
    "from sklearn.ensemble import RandomForestClassifier\n",
    "\n",
    "def get(Aa,QUERY):\n",
    "    from sklearn.preprocessing import StandardScaler, Normalizer\n",
    "    Xs = []\n",
    "    adata = Aa\n",
    "    for i in range(A.index.size):\n",
    "        term = A.index[i]\n",
    "        ledge = A.iloc[i,-1].split(';')\n",
    "        cl = np.array(list(adata.obs['PatientID']))\n",
    "        X1 = adata[:,ledge].X.A[cl!=QUERY]\n",
    "        X2 = adata[:,ledge].X.A[cl==QUERY]\n",
    "        std=StandardScaler()\n",
    "        X1 = std.fit_transform(X1)\n",
    "        X2 = std.transform(X2)\n",
    "        X = pd.DataFrame(data=np.vstack((X1,X2)),index=np.append(adata.obs_names[cl!=QUERY],adata.obs_names[cl==QUERY])).T[adata.obs_names].T.values.mean(1)\n",
    "        Xs.append(X)\n",
    "    Xs = np.vstack(Xs).T    \n",
    "    return Xs"
   ]
  },
  {
   "cell_type": "code",
   "execution_count": 6,
   "id": "e231c2b4-1930-47b3-8af4-5391c9f4a3e4",
   "metadata": {},
   "outputs": [],
   "source": [
    "adata = anndata.read_h5ad('vap_study.h5ad')"
   ]
  },
  {
   "cell_type": "code",
   "execution_count": 7,
   "id": "e3f0ecc0-527f-4939-a7f2-7b9ee3f57da2",
   "metadata": {},
   "outputs": [],
   "source": [
    "adata.obs['PatientID'] = ([x.split('_')[1] for x in adata.obs['Identity']])\n",
    "adata = adata[adata.obs['Time']=='Early'].copy()"
   ]
  },
  {
   "cell_type": "code",
   "execution_count": 17,
   "id": "3e0a47ee-020f-439e-ad09-630a42b66d85",
   "metadata": {},
   "outputs": [
    {
     "name": "stdout",
     "output_type": "stream",
     "text": [
      "1001\n",
      "1002\n",
      "1047\n",
      "1072\n",
      "1115\n",
      "1154\n",
      "1158\n",
      "1161\n",
      "1271\n",
      "1357\n"
     ]
    },
    {
     "data": {
      "text/plain": [
       "(393, 8)"
      ]
     },
     "execution_count": 17,
     "metadata": {},
     "output_type": "execute_result"
    }
   ],
   "source": [
    "PATIENTS=np.unique(adata.obs['PatientID'])\n",
    "V=[]\n",
    "for INCLUDE in PATIENTS:\n",
    "    print(INCLUDE)\n",
    "    adata2 = adata[adata.obs['PatientID']!=INCLUDE].copy()\n",
    "    X = adata2.X.A\n",
    "    labels = np.array(list(adata2.obs['VAP']))   \n",
    "    clf = RandomForestClassifier(\n",
    "        n_estimators=1000, max_depth=None, random_state=0, class_weight='balanced',\n",
    "    )\n",
    "    clf.fit(X,labels)    \n",
    "    V.append(clf.feature_importances_)\n",
    "V=np.vstack(V)\n",
    "vals=V.mean(0)\n",
    "\n",
    "C = pd.DataFrame(data = list(adata.var_names))\n",
    "C['1'] = vals\n",
    "C = C.sort_values('1',ascending=False)\n",
    "C=C[C['1']>0.0]\n",
    "\n",
    "import gseapy as gp\n",
    "pre_res = gp.prerank(rnk=C, gene_sets='Reactome_2016',\n",
    "                     processes=112,\n",
    "                     permutation_num=100, # reduce number to speed up testing\n",
    "                     outdir='prerank_report_kegg', format='png', seed=6)\n",
    "\n",
    "A=pre_res.res2d[pre_res.res2d['fdr']<0.25]\n",
    "A.shape"
   ]
  },
  {
   "cell_type": "raw",
   "id": "a237997a-c999-425a-9013-c4f8ec268cf4",
   "metadata": {},
   "source": [
    "#A.to_csv('gene_sets_vap_study.csv')\n",
    "#A=pd.read_csv('gene_sets_vap_study.csv',index_col=0)"
   ]
  },
  {
   "cell_type": "code",
   "execution_count": 18,
   "id": "c8d9f71e-1d54-4d99-bcf9-90415c6e0d74",
   "metadata": {},
   "outputs": [],
   "source": [
    "PATIENTS,c=np.unique(adata.obs['PatientID'],return_counts=True)"
   ]
  },
  {
   "cell_type": "code",
   "execution_count": 19,
   "id": "d4089fa6-b2d5-42f6-97d7-2d206ac42849",
   "metadata": {},
   "outputs": [
    {
     "name": "stdout",
     "output_type": "stream",
     "text": [
      "1001\n",
      "1002\n",
      "1047\n",
      "1072\n",
      "1115\n",
      "1154\n",
      "1158\n",
      "1161\n",
      "1271\n",
      "1357\n"
     ]
    }
   ],
   "source": [
    "XXs={}\n",
    "for Q in PATIENTS:\n",
    "    print(Q)\n",
    "    X = get(adata,Q)\n",
    "    XXs[Q] = X#sub.adata.obsm['X_pca']"
   ]
  },
  {
   "cell_type": "code",
   "execution_count": 20,
   "id": "f5ec85ea-1103-479b-a82a-f5b39dcef917",
   "metadata": {},
   "outputs": [],
   "source": [
    "PATIENTS,c=np.unique(adata.obs['PatientID'],return_counts=True)\n",
    "REAL_dict = dict(zip(PATIENTS,[adata.obs['VAP'][adata.obs['PatientID']==x][0] for x in PATIENTS]))"
   ]
  },
  {
   "cell_type": "code",
   "execution_count": 24,
   "id": "ba3c708e-135a-4439-b1f7-124028c631f6",
   "metadata": {},
   "outputs": [],
   "source": [
    "labels=np.array(list(adata.obs['VAP']))\n",
    "pid=np.array(list(adata.obs['PatientID']))"
   ]
  },
  {
   "cell_type": "code",
   "execution_count": 33,
   "id": "d253ba93-11c3-4a8c-a99b-3b6c36a17f65",
   "metadata": {},
   "outputs": [],
   "source": [
    "ts=[]\n",
    "for p in PATIENTS:\n",
    "    adata.obsm['X']=XXs[p]\n",
    "    no = adata[labels=='No'].X.mean(0).A.flatten()\n",
    "    yes = adata[labels=='Yes'].X.mean(0).A.flatten()\n",
    "\n",
    "    ps=[]\n",
    "    for pp in np.unique(pid):\n",
    "        ps.append(adata.obsm['X'][pid==pp].mean(0).flatten())\n",
    "    ps = np.array(ps)\n",
    "    vap = [REAL_dict[a] for a in PATIENTS]\n",
    "    t = np.array([roc_auc_score(vap,ps[:,i]) for i in range(ps.shape[1])])\n",
    "    ts.append(t)\n",
    "ts=np.vstack(ts).mean(0)\n",
    "ts1=ts"
   ]
  },
  {
   "cell_type": "code",
   "execution_count": null,
   "id": "9dad88c3-8aaa-4d00-b85f-5b58c2e51bab",
   "metadata": {},
   "outputs": [
    {
     "name": "stdout",
     "output_type": "stream",
     "text": [
      "1001\n",
      "1002\n",
      "1047\n",
      "1072\n",
      "1115\n",
      "1154\n",
      "1158\n",
      "1161\n",
      "1271\n",
      "1357\n"
     ]
    }
   ],
   "source": [
    "ts=[]\n",
    "for p in PATIENTS:\n",
    "    print(p)\n",
    "    X=XXs[p]\n",
    "    \n",
    "    clf = RandomForestClassifier(\n",
    "        n_estimators=1000, max_depth=None, random_state=0, class_weight='balanced',\n",
    "    )\n",
    "    clf.fit(X,labels)    \n",
    "    ts.append(clf.feature_importances_)    \n",
    "ts=np.vstack(ts).mean(0)\n",
    "ts2=ts"
   ]
  },
  {
   "cell_type": "code",
   "execution_count": 35,
   "id": "2de0395c-2747-4ae1-b0d9-4dc2323e4d78",
   "metadata": {},
   "outputs": [
    {
     "data": {
      "image/png": "[encoded data removed]",
      "text/plain": [
       "<Figure size 432x288 with 1 Axes>"
      ]
     },
     "metadata": {
      "needs_background": "light"
     },
     "output_type": "display_data"
    }
   ],
   "source": [
    "IX=np.argsort(-ts1*ts2)[:30]\n",
    "Yreals=[]\n",
    "Ypreds=[]\n",
    "Yess=[]\n",
    "for HELD_OUT in PATIENTS:#['1161']:\n",
    "    Xs=XXs[HELD_OUT]\n",
    "    Xtrain=Xs[pid!=HELD_OUT][:,IX]\n",
    "    Xtest=Xs[pid==HELD_OUT][:,IX]    \n",
    "\n",
    "    Ytrain = labels[pid!=HELD_OUT]\n",
    "    Ytest = labels[pid==HELD_OUT]\n",
    "    yes = Xtrain[Ytrain=='Yes'].mean(0)\n",
    "    no = Xtrain[Ytrain=='No'].mean(0)\n",
    "    z = Xtest.mean(0)\n",
    "\n",
    "    sc1 = np.corrcoef(yes,z)[0,1]\n",
    "    sc2 = np.corrcoef(no,z)[0,1]\n",
    "\n",
    "    yes = Xtrain[Ytrain=='Yes'].mean(0)[None,:]\n",
    "    no = Xtrain[Ytrain=='No'].mean(0)[None,:]\n",
    "    \n",
    "    if sc1-sc2>0.6:\n",
    "        res='Yes'\n",
    "    else:\n",
    "        res='No'\n",
    "    Ypreds.append(sc1-sc2)\n",
    "    Yess.append(sc1)\n",
    "    Yreals.append(REAL_dict[HELD_OUT])\n",
    "    fin = 'WRONG' if  res != REAL_dict[HELD_OUT] else 'RIGHT'\n",
    "\n",
    "import seaborn as sns\n",
    "f=pd.DataFrame(data=Yess,columns=['val'])\n",
    "f['cat']=Yreals\n",
    "ax = sns.stripplot(data=f,x='cat',y='val',s=10)\n",
    "ax.axhline(0,c='k');"
   ]
  },
  {
   "cell_type": "code",
   "execution_count": 37,
   "id": "b55601cc-4370-4023-b863-7353fa44a731",
   "metadata": {},
   "outputs": [],
   "source": [
    "A.iloc[IX].to_csv('gene_sets_selected_vap_study.csv')"
   ]
  },
  {
   "cell_type": "code",
   "execution_count": null,
   "id": "b89683b0-b718-4668-b838-61708bde1cd0",
   "metadata": {},
   "outputs": [],
   "source": []
  }
 ],
 "metadata": {
  "kernelspec": {
   "display_name": "Python 3 (ipykernel)",
   "language": "python",
   "name": "python3"
  },
  "language_info": {
   "codemirror_mode": {
    "name": "ipython",
    "version": 3
   },
   "file_extension": ".py",
   "mimetype": "text/x-python",
   "name": "python",
   "nbconvert_exporter": "python",
   "pygments_lexer": "ipython3",
   "version": "3.8.10"
  }
 },
 "nbformat": 4,
 "nbformat_minor": 5
}
